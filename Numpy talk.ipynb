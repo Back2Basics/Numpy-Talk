{
 "cells": [
  {
   "cell_type": "code",
   "execution_count": 1,
   "metadata": {
    "collapsed": true,
    "slideshow": {
     "slide_type": "skip"
    }
   },
   "outputs": [],
   "source": [
    "import numpy as np\n",
    "from IPython.display import Image\n",
    "from IPython.core.display import HTML "
   ]
  },
  {
   "cell_type": "markdown",
   "metadata": {
    "nbpresent": {
     "id": "1e922e0b-2c28-4e84-8b82-83546b86f636"
    },
    "slideshow": {
     "slide_type": "slide"
    }
   },
   "source": [
    "# Numpy is a library about numerical computing and the gateway to Python Data Science.\n"
   ]
  },
  {
   "cell_type": "code",
   "execution_count": 2,
   "metadata": {
    "slideshow": {
     "slide_type": "slide"
    }
   },
   "outputs": [
    {
     "data": {
      "text/html": [
       "<img src=\"stack.png\" width=\"600\" height=\"600\"/>"
      ],
      "text/plain": [
       "<IPython.core.display.Image object>"
      ]
     },
     "execution_count": 2,
     "metadata": {},
     "output_type": "execute_result"
    }
   ],
   "source": [
    "\n",
    "Image(url=\"stack.png\", width=600, height=600)"
   ]
  },
  {
   "cell_type": "markdown",
   "metadata": {
    "nbpresent": {
     "id": "a2953617-7e88-4a37-8b55-ad595cafb677"
    },
    "slideshow": {
     "slide_type": "fragment"
    }
   },
   "source": [
    "## Python has lists which can be treated by python like arrays. \n"
   ]
  },
  {
   "cell_type": "code",
   "execution_count": 3,
   "metadata": {
    "collapsed": true,
    "nbpresent": {
     "id": "ced4383a-a265-45a5-a7e9-409a8f9e486f"
    },
    "slideshow": {
     "slide_type": "fragment"
    }
   },
   "outputs": [],
   "source": [
    "number_list = [1,2,3,4]\n",
    "grocery_list = ['banana','grape','apple']\n",
    "float_list = [1.0, 2.0, 3.14, 4.0]\n",
    "lists_of_other_things = [{'a','set'}, ['list','inside','list']]\n",
    "matrix = [[1,2,3,4],\n",
    "          [2,3,4,5],\n",
    "          [3,4,5,6]]  # just a list of lists"
   ]
  },
  {
   "cell_type": "markdown",
   "metadata": {
    "slideshow": {
     "slide_type": "slide"
    }
   },
   "source": [
    "## But here is why we need something better.   \n",
    "### Lets start with making a list of list with range."
   ]
  },
  {
   "cell_type": "code",
   "execution_count": 4,
   "metadata": {
    "slideshow": {
     "slide_type": "slide"
    }
   },
   "outputs": [
    {
     "data": {
      "text/plain": [
       "[[0, 1, 2, 3, 4, 5, 6, 7, 8, 9],\n",
       " [10, 11, 12, 13, 14, 15, 16, 17, 18, 19],\n",
       " [20, 21, 22, 23, 24, 25, 26, 27, 28, 29],\n",
       " [30, 31, 32, 33, 34, 35, 36, 37, 38, 39],\n",
       " [40, 41, 42, 43, 44, 45, 46, 47, 48, 49],\n",
       " [50, 51, 52, 53, 54, 55, 56, 57, 58, 59],\n",
       " [60, 61, 62, 63, 64, 65, 66, 67, 68, 69],\n",
       " [70, 71, 72, 73, 74, 75, 76, 77, 78, 79],\n",
       " [80, 81, 82, 83, 84, 85, 86, 87, 88, 89],\n",
       " [90, 91, 92, 93, 94, 95, 96, 97, 98, 99],\n",
       " [100, 101, 102, 103, 104, 105, 106, 107, 108, 109],\n",
       " [110, 111, 112, 113, 114, 115, 116, 117, 118, 119],\n",
       " [120, 121, 122, 123, 124, 125, 126, 127, 128, 129],\n",
       " [130, 131, 132, 133, 134, 135, 136, 137, 138, 139],\n",
       " [140, 141, 142, 143, 144, 145, 146, 147, 148, 149],\n",
       " [150, 151, 152, 153, 154, 155, 156, 157, 158, 159],\n",
       " [160, 161, 162, 163, 164, 165, 166, 167, 168, 169],\n",
       " [170, 171, 172, 173, 174, 175, 176, 177, 178, 179],\n",
       " [180, 181, 182, 183, 184, 185, 186, 187, 188, 189],\n",
       " [190, 191, 192, 193, 194, 195, 196, 197, 198, 199],\n",
       " [200, 201, 202, 203, 204, 205, 206, 207, 208, 209],\n",
       " [210, 211, 212, 213, 214, 215, 216, 217, 218, 219],\n",
       " [220, 221, 222, 223, 224, 225, 226, 227, 228, 229],\n",
       " [230, 231, 232, 233, 234, 235, 236, 237, 238, 239],\n",
       " [240, 241, 242, 243, 244, 245, 246, 247, 248, 249],\n",
       " [250, 251, 252, 253, 254, 255, 256, 257, 258, 259],\n",
       " [260, 261, 262, 263, 264, 265, 266, 267, 268, 269],\n",
       " [270, 271, 272, 273, 274, 275, 276, 277, 278, 279],\n",
       " [280, 281, 282, 283, 284, 285, 286, 287, 288, 289],\n",
       " [290, 291, 292, 293, 294, 295, 296, 297, 298, 299],\n",
       " [300, 301, 302, 303, 304, 305, 306, 307, 308, 309],\n",
       " [310, 311, 312, 313, 314, 315, 316, 317, 318, 319],\n",
       " [320, 321, 322, 323, 324, 325, 326, 327, 328, 329],\n",
       " [330, 331, 332, 333, 334, 335, 336, 337, 338, 339],\n",
       " [340, 341, 342, 343, 344, 345, 346, 347, 348, 349],\n",
       " [350, 351, 352, 353, 354, 355, 356, 357, 358, 359],\n",
       " [360, 361, 362, 363, 364, 365, 366, 367, 368, 369],\n",
       " [370, 371, 372, 373, 374, 375, 376, 377, 378, 379],\n",
       " [380, 381, 382, 383, 384, 385, 386, 387, 388, 389],\n",
       " [390, 391, 392, 393, 394, 395, 396, 397, 398, 399],\n",
       " [400, 401, 402, 403, 404, 405, 406, 407, 408, 409],\n",
       " [410, 411, 412, 413, 414, 415, 416, 417, 418, 419],\n",
       " [420, 421, 422, 423, 424, 425, 426, 427, 428, 429],\n",
       " [430, 431, 432, 433, 434, 435, 436, 437, 438, 439],\n",
       " [440, 441, 442, 443, 444, 445, 446, 447, 448, 449],\n",
       " [450, 451, 452, 453, 454, 455, 456, 457, 458, 459],\n",
       " [460, 461, 462, 463, 464, 465, 466, 467, 468, 469],\n",
       " [470, 471, 472, 473, 474, 475, 476, 477, 478, 479],\n",
       " [480, 481, 482, 483, 484, 485, 486, 487, 488, 489],\n",
       " [490, 491, 492, 493, 494, 495, 496, 497, 498, 499]]"
      ]
     },
     "execution_count": 4,
     "metadata": {},
     "output_type": "execute_result"
    }
   ],
   "source": [
    "matrix = []\n",
    "inner = []\n",
    "for j in range(50):\n",
    "    for i in range(10):\n",
    "        inner.append(i+j*10)\n",
    "    matrix.append(inner)\n",
    "    inner = []\n",
    "matrix"
   ]
  },
  {
   "cell_type": "code",
   "execution_count": 5,
   "metadata": {
    "slideshow": {
     "slide_type": "slide"
    }
   },
   "outputs": [
    {
     "data": {
      "text/plain": [
       "array([[  0,   1,   2,   3,   4,   5,   6,   7,   8,   9],\n",
       "       [ 10,  11,  12,  13,  14,  15,  16,  17,  18,  19],\n",
       "       [ 20,  21,  22,  23,  24,  25,  26,  27,  28,  29],\n",
       "       [ 30,  31,  32,  33,  34,  35,  36,  37,  38,  39],\n",
       "       [ 40,  41,  42,  43,  44,  45,  46,  47,  48,  49],\n",
       "       [ 50,  51,  52,  53,  54,  55,  56,  57,  58,  59],\n",
       "       [ 60,  61,  62,  63,  64,  65,  66,  67,  68,  69],\n",
       "       [ 70,  71,  72,  73,  74,  75,  76,  77,  78,  79],\n",
       "       [ 80,  81,  82,  83,  84,  85,  86,  87,  88,  89],\n",
       "       [ 90,  91,  92,  93,  94,  95,  96,  97,  98,  99],\n",
       "       [100, 101, 102, 103, 104, 105, 106, 107, 108, 109],\n",
       "       [110, 111, 112, 113, 114, 115, 116, 117, 118, 119],\n",
       "       [120, 121, 122, 123, 124, 125, 126, 127, 128, 129],\n",
       "       [130, 131, 132, 133, 134, 135, 136, 137, 138, 139],\n",
       "       [140, 141, 142, 143, 144, 145, 146, 147, 148, 149],\n",
       "       [150, 151, 152, 153, 154, 155, 156, 157, 158, 159],\n",
       "       [160, 161, 162, 163, 164, 165, 166, 167, 168, 169],\n",
       "       [170, 171, 172, 173, 174, 175, 176, 177, 178, 179],\n",
       "       [180, 181, 182, 183, 184, 185, 186, 187, 188, 189],\n",
       "       [190, 191, 192, 193, 194, 195, 196, 197, 198, 199],\n",
       "       [200, 201, 202, 203, 204, 205, 206, 207, 208, 209],\n",
       "       [210, 211, 212, 213, 214, 215, 216, 217, 218, 219],\n",
       "       [220, 221, 222, 223, 224, 225, 226, 227, 228, 229],\n",
       "       [230, 231, 232, 233, 234, 235, 236, 237, 238, 239],\n",
       "       [240, 241, 242, 243, 244, 245, 246, 247, 248, 249],\n",
       "       [250, 251, 252, 253, 254, 255, 256, 257, 258, 259],\n",
       "       [260, 261, 262, 263, 264, 265, 266, 267, 268, 269],\n",
       "       [270, 271, 272, 273, 274, 275, 276, 277, 278, 279],\n",
       "       [280, 281, 282, 283, 284, 285, 286, 287, 288, 289],\n",
       "       [290, 291, 292, 293, 294, 295, 296, 297, 298, 299],\n",
       "       [300, 301, 302, 303, 304, 305, 306, 307, 308, 309],\n",
       "       [310, 311, 312, 313, 314, 315, 316, 317, 318, 319],\n",
       "       [320, 321, 322, 323, 324, 325, 326, 327, 328, 329],\n",
       "       [330, 331, 332, 333, 334, 335, 336, 337, 338, 339],\n",
       "       [340, 341, 342, 343, 344, 345, 346, 347, 348, 349],\n",
       "       [350, 351, 352, 353, 354, 355, 356, 357, 358, 359],\n",
       "       [360, 361, 362, 363, 364, 365, 366, 367, 368, 369],\n",
       "       [370, 371, 372, 373, 374, 375, 376, 377, 378, 379],\n",
       "       [380, 381, 382, 383, 384, 385, 386, 387, 388, 389],\n",
       "       [390, 391, 392, 393, 394, 395, 396, 397, 398, 399],\n",
       "       [400, 401, 402, 403, 404, 405, 406, 407, 408, 409],\n",
       "       [410, 411, 412, 413, 414, 415, 416, 417, 418, 419],\n",
       "       [420, 421, 422, 423, 424, 425, 426, 427, 428, 429],\n",
       "       [430, 431, 432, 433, 434, 435, 436, 437, 438, 439],\n",
       "       [440, 441, 442, 443, 444, 445, 446, 447, 448, 449],\n",
       "       [450, 451, 452, 453, 454, 455, 456, 457, 458, 459],\n",
       "       [460, 461, 462, 463, 464, 465, 466, 467, 468, 469],\n",
       "       [470, 471, 472, 473, 474, 475, 476, 477, 478, 479],\n",
       "       [480, 481, 482, 483, 484, 485, 486, 487, 488, 489],\n",
       "       [490, 491, 492, 493, 494, 495, 496, 497, 498, 499]])"
      ]
     },
     "execution_count": 5,
     "metadata": {},
     "output_type": "execute_result"
    }
   ],
   "source": [
    "# the same structure with numpy arrays made in one line.\n",
    "np_array = np.arange(500).reshape(50,10)\n",
    "np_array"
   ]
  },
  {
   "cell_type": "code",
   "execution_count": 6,
   "metadata": {
    "slideshow": {
     "slide_type": "slide"
    }
   },
   "outputs": [
    {
     "name": "stdout",
     "output_type": "stream",
     "text": [
      "89.3 µs ± 2.98 µs per loop (mean ± std. dev. of 7 runs, 10000 loops each)\n"
     ]
    }
   ],
   "source": [
    "def add10(matrix):\n",
    "    for count_x,x in enumerate(matrix):\n",
    "        for count_y,y in enumerate(x):\n",
    "            matrix[count_x][count_y]+=10\n",
    "    return matrix\n",
    "\n",
    "%timeit add10(matrix)"
   ]
  },
  {
   "cell_type": "code",
   "execution_count": 7,
   "metadata": {
    "slideshow": {
     "slide_type": "fragment"
    }
   },
   "outputs": [
    {
     "name": "stdout",
     "output_type": "stream",
     "text": [
      "1.21 µs ± 11 ns per loop (mean ± std. dev. of 7 runs, 1000000 loops each)\n"
     ]
    }
   ],
   "source": [
    "%timeit np_array+10"
   ]
  },
  {
   "cell_type": "markdown",
   "metadata": {
    "slideshow": {
     "slide_type": "slide"
    }
   },
   "source": [
    "### 70x speedup.\n",
    "Note: This is just adding.  There are operations or combinations of operations which can get you 100x or 1000x speedup.  Lets put that into perspective.  If you have a lot of data to work on and this operation takes a month, a 30x speed up would reduce that to a day.  a 70x speedup would reduce that to 10 hours or so.  So you could make changes during the day.  let this run all night and come back in the morning and it would be done.  You can make a few mistakes and still be done in a week or so.  Fast iteration is key in data science.  Numpy is a significant tool to make that possible."
   ]
  },
  {
   "cell_type": "markdown",
   "metadata": {
    "slideshow": {
     "slide_type": "slide"
    }
   },
   "source": [
    "### You will have to be specific when you are doing matrix multiplication as to which operation you are looking to do."
   ]
  },
  {
   "cell_type": "code",
   "execution_count": 8,
   "metadata": {
    "slideshow": {
     "slide_type": "fragment"
    }
   },
   "outputs": [
    {
     "name": "stdout",
     "output_type": "stream",
     "text": [
      "[[0 1 2 3 4 5 6 7 8 9]]\n",
      "[[0]\n",
      " [1]\n",
      " [2]\n",
      " [3]\n",
      " [4]\n",
      " [5]\n",
      " [6]\n",
      " [7]\n",
      " [8]\n",
      " [9]]\n"
     ]
    }
   ],
   "source": [
    "import numpy as np\n",
    "np_a = np.arange(10).reshape(1,10)\n",
    "print(np_a)\n",
    "np_b = np.arange(10).reshape(10,1)\n",
    "print(np_b)\n"
   ]
  },
  {
   "cell_type": "markdown",
   "metadata": {
    "slideshow": {
     "slide_type": "subslide"
    }
   },
   "source": [
    "### Did you want this?  (notice the order of the arguments stays the same)"
   ]
  },
  {
   "cell_type": "code",
   "execution_count": 9,
   "metadata": {
    "slideshow": {
     "slide_type": "fragment"
    }
   },
   "outputs": [
    {
     "data": {
      "text/plain": [
       "array([[ 0,  0,  0,  0,  0,  0,  0,  0,  0,  0],\n",
       "       [ 0,  1,  2,  3,  4,  5,  6,  7,  8,  9],\n",
       "       [ 0,  2,  4,  6,  8, 10, 12, 14, 16, 18],\n",
       "       [ 0,  3,  6,  9, 12, 15, 18, 21, 24, 27],\n",
       "       [ 0,  4,  8, 12, 16, 20, 24, 28, 32, 36],\n",
       "       [ 0,  5, 10, 15, 20, 25, 30, 35, 40, 45],\n",
       "       [ 0,  6, 12, 18, 24, 30, 36, 42, 48, 54],\n",
       "       [ 0,  7, 14, 21, 28, 35, 42, 49, 56, 63],\n",
       "       [ 0,  8, 16, 24, 32, 40, 48, 56, 64, 72],\n",
       "       [ 0,  9, 18, 27, 36, 45, 54, 63, 72, 81]])"
      ]
     },
     "execution_count": 9,
     "metadata": {},
     "output_type": "execute_result"
    }
   ],
   "source": [
    "np.multiply(np_a, np_b) #element wise"
   ]
  },
  {
   "cell_type": "markdown",
   "metadata": {
    "slideshow": {
     "slide_type": "subslide"
    }
   },
   "source": [
    "### or this"
   ]
  },
  {
   "cell_type": "code",
   "execution_count": 10,
   "metadata": {
    "slideshow": {
     "slide_type": "fragment"
    }
   },
   "outputs": [
    {
     "data": {
      "text/plain": [
       "array([[285]])"
      ]
     },
     "execution_count": 10,
     "metadata": {},
     "output_type": "execute_result"
    }
   ],
   "source": [
    "np.dot(np_a,np_b) # linear algebra matrix multiplication"
   ]
  },
  {
   "cell_type": "markdown",
   "metadata": {
    "slideshow": {
     "slide_type": "slide"
    }
   },
   "source": [
    "## This is a breakdown of the Numpy Header. \n",
    "### Data pointer \n",
    "The memory address of the first\n",
    "byte in the array.\n",
    "\n",
    "###  Data type description \n",
    "The kind of elements contained\n",
    "in the array, for example floating point\n",
    "numbers or integers.\n",
    "\n",
    "### Shape \n",
    "The shape of the array, for example (10,\n",
    "10) for a ten-by-ten array, or (5, 5, 5) for a\n",
    "block of data describing a mesh grid of x-, yand\n",
    "z-coordinates.\n",
    "\n",
    "### Strides\n",
    "The number of bytes to skip in memory to\n",
    "proceed to the next element. For a (10, 10)\n",
    "array of bytes, for example, the strides may be\n",
    "(10, 1), in other words: proceed one byte to\n",
    "get to the next column and ten bytes to locate\n",
    "the next row.\n",
    "\n",
    "### Flags \n",
    "Which define whether memory layout is\n",
    "C- or Fortran-contiguous1\n",
    ", and so forth.\n",
    "\n",
    "data from https://arxiv.org/pdf/1102.1523.pdf"
   ]
  },
  {
   "cell_type": "markdown",
   "metadata": {
    "slideshow": {
     "slide_type": "slide"
    }
   },
   "source": [
    "### And header helps figure out how to split that data up."
   ]
  },
  {
   "cell_type": "markdown",
   "metadata": {
    "slideshow": {
     "slide_type": "slide"
    }
   },
   "source": [
    "## You may need to modify the flags to change elements in the array  (Depending on how it's created)"
   ]
  },
  {
   "cell_type": "code",
   "execution_count": 11,
   "metadata": {
    "slideshow": {
     "slide_type": "fragment"
    }
   },
   "outputs": [
    {
     "name": "stdout",
     "output_type": "stream",
     "text": [
      "[[ 0  1  4]\n",
      " [ 3  4 10]]\n"
     ]
    }
   ],
   "source": [
    "a = np.arange(6).reshape(2,3)\n",
    "for x in np.nditer(a[:,2], op_flags=['readwrite']):\n",
    "    x[...] = 2 * x\n",
    "print(a)"
   ]
  },
  {
   "cell_type": "markdown",
   "metadata": {
    "slideshow": {
     "slide_type": "slide"
    }
   },
   "source": [
    "### Python has lots of space for numbers that you rarely need.  So you can modify the size of the data before you do calculations.  The computer can operate on 32 bits faster than it can on 64 bits.  "
   ]
  },
  {
   "cell_type": "markdown",
   "metadata": {
    "slideshow": {
     "slide_type": "slide"
    }
   },
   "source": [
    "#### With 8 bits you can hold numbers from 0-255, \n",
    "#### with 16 bits you can hold numbers from 0-65535, \n",
    "#### with 32 bits you can hold numbers from 0-4294967295\n",
    "#### with 64 bits you can hold numbers from 0-18446744073709551616\n",
    "##### (all these are unsigned integers.)"
   ]
  },
  {
   "cell_type": "markdown",
   "metadata": {
    "slideshow": {
     "slide_type": "fragment"
    }
   },
   "source": [
    "### So how many bits do you need to hold a number representing:\n",
    "#### A persons age?  (Do people live to be 4 million?)\n",
    "#### People living in a major city?\n",
    "#### Cars manufactured in a year by a company?"
   ]
  },
  {
   "cell_type": "code",
   "execution_count": 12,
   "metadata": {
    "slideshow": {
     "slide_type": "fragment"
    }
   },
   "outputs": [
    {
     "data": {
      "text/plain": [
       "dtype('int64')"
      ]
     },
     "execution_count": 12,
     "metadata": {},
     "output_type": "execute_result"
    }
   ],
   "source": [
    "#if you want to find out how many bits data has use:\n",
    "a.dtype"
   ]
  },
  {
   "cell_type": "markdown",
   "metadata": {
    "slideshow": {
     "slide_type": "slide"
    }
   },
   "source": [
    "### So this ndarray can hold numbers going to 18446744073709551616.  And it using the space for it even though the number is small.  But you can change the datatype using astype()"
   ]
  },
  {
   "cell_type": "code",
   "execution_count": 13,
   "metadata": {
    "collapsed": true,
    "slideshow": {
     "slide_type": "fragment"
    }
   },
   "outputs": [],
   "source": [
    "a = a.astype(np.int8)"
   ]
  },
  {
   "cell_type": "code",
   "execution_count": 14,
   "metadata": {
    "slideshow": {
     "slide_type": "fragment"
    }
   },
   "outputs": [
    {
     "data": {
      "text/plain": [
       "dtype('int8')"
      ]
     },
     "execution_count": 14,
     "metadata": {},
     "output_type": "execute_result"
    }
   ],
   "source": [
    "a.dtype"
   ]
  },
  {
   "cell_type": "code",
   "execution_count": 15,
   "metadata": {
    "slideshow": {
     "slide_type": "fragment"
    }
   },
   "outputs": [
    {
     "data": {
      "text/plain": [
       "array([[ 0,  1,  4],\n",
       "       [ 3,  4, 10]], dtype=int8)"
      ]
     },
     "execution_count": 15,
     "metadata": {},
     "output_type": "execute_result"
    }
   ],
   "source": [
    "a"
   ]
  },
  {
   "cell_type": "markdown",
   "metadata": {
    "slideshow": {
     "slide_type": "slide"
    }
   },
   "source": [
    "## Where is a replacement for an if statement with certain conditions."
   ]
  },
  {
   "cell_type": "code",
   "execution_count": 16,
   "metadata": {
    "slideshow": {
     "slide_type": "fragment"
    }
   },
   "outputs": [
    {
     "data": {
      "text/plain": [
       "array([[ 0,  0,  0],\n",
       "       [ 0,  0, 10]], dtype=int8)"
      ]
     },
     "execution_count": 16,
     "metadata": {},
     "output_type": "execute_result"
    }
   ],
   "source": [
    "#This sets all values less than or equal to five to 0 and leaves the rest alone.\n",
    "np.where(a > 5, a, 0)"
   ]
  },
  {
   "cell_type": "markdown",
   "metadata": {
    "collapsed": true,
    "slideshow": {
     "slide_type": "fragment"
    }
   },
   "source": [
    "When functions in Numpy operate on one value at a time there called Ufuncs.  where(), sum(), min(), max() ar a few."
   ]
  },
  {
   "cell_type": "code",
   "execution_count": 20,
   "metadata": {
    "slideshow": {
     "slide_type": "fragment"
    }
   },
   "outputs": [
    {
     "name": "stdout",
     "output_type": "stream",
     "text": [
      "[[ 0  1  4]\n",
      " [ 3  4 10]]\n"
     ]
    },
    {
     "data": {
      "text/plain": [
       "22"
      ]
     },
     "execution_count": 20,
     "metadata": {},
     "output_type": "execute_result"
    }
   ],
   "source": [
    "print(a)\n",
    "a.sum()"
   ]
  },
  {
   "cell_type": "markdown",
   "metadata": {
    "slideshow": {
     "slide_type": "slide"
    }
   },
   "source": [
    "## The reason for the speed improvement is the data layout."
   ]
  },
  {
   "cell_type": "markdown",
   "metadata": {
    "slideshow": {
     "slide_type": "fragment"
    }
   },
   "source": [
    "(numbers are actually in binary but this is just an easier version for people to read)\n",
    "\n",
    "A list is structured like this:\n",
    "    [pointer to the memory address of 5, pointer to the memory address of 1, pointer to the memory address of 3, ...]\n",
    "    \n",
    "    integer00000001                                       integer00000001\n",
    "    \n",
    "    \n",
    "                integer00000003                                          integer00000005\n",
    "        integer00000004\n"
   ]
  },
  {
   "cell_type": "markdown",
   "metadata": {
    "slideshow": {
     "slide_type": "fragment"
    }
   },
   "source": [
    "The structure is only like this for 1d lists.  For 2d lists the first list would point to another set of lists which would then point to the values. "
   ]
  },
  {
   "cell_type": "markdown",
   "metadata": {
    "slideshow": {
     "slide_type": "fragment"
    }
   },
   "source": [
    "A NumPy array data is structured like this: \n",
    "\n",
    "### NumpyHeaderHere:0000000100000002000000030000000400000005"
   ]
  },
  {
   "cell_type": "markdown",
   "metadata": {
    "slideshow": {
     "slide_type": "fragment"
    }
   },
   "source": [
    "This structure holds true for 1d, 2d, 3d... all the way to ND data.  And that's a reason it is called an ndarray."
   ]
  },
  {
   "cell_type": "markdown",
   "metadata": {
    "slideshow": {
     "slide_type": "slide"
    }
   },
   "source": [
    "# Thanks for taking the time to learn about Numpy arrays.  Start using them and hurry."
   ]
  }
 ],
 "metadata": {
  "anaconda-cloud": {},
  "celltoolbar": "Slideshow",
  "kernelspec": {
   "display_name": "Python [conda env:py3k]",
   "language": "python",
   "name": "conda-env-py3k-py"
  },
  "language_info": {
   "codemirror_mode": {
    "name": "ipython",
    "version": 3
   },
   "file_extension": ".py",
   "mimetype": "text/x-python",
   "name": "python",
   "nbconvert_exporter": "python",
   "pygments_lexer": "ipython3",
   "version": "3.5.3"
  },
  "nbpresent": {
   "slides": {
    "96ea79e6-ddae-498c-9c09-e45b1685f7e0": {
     "id": "96ea79e6-ddae-498c-9c09-e45b1685f7e0",
     "layout": "grid",
     "prev": null,
     "regions": {
      "b70a7ee1-ab60-44b4-8100-0d0cc8e24d91": {
       "attrs": {
        "height": 1,
        "pad": 0.05999999999999708,
        "width": 0.8333333333333334,
        "x": 0.08333333333333333,
        "y": 0
       },
       "id": "b70a7ee1-ab60-44b4-8100-0d0cc8e24d91"
      }
     },
     "theme": "f72e9fac-f083-4ae0-8928-5a4ea6428e46"
    }
   },
   "themes": {
    "default": "f72e9fac-f083-4ae0-8928-5a4ea6428e46",
    "theme": {
     "f72e9fac-f083-4ae0-8928-5a4ea6428e46": {
      "id": "f72e9fac-f083-4ae0-8928-5a4ea6428e46",
      "palette": {
       "19cc588f-0593-49c9-9f4b-e4d7cc113b1c": {
        "id": "19cc588f-0593-49c9-9f4b-e4d7cc113b1c",
        "rgb": [
         252,
         252,
         252
        ]
       },
       "31af15d2-7e15-44c5-ab5e-e04b16a89eff": {
        "id": "31af15d2-7e15-44c5-ab5e-e04b16a89eff",
        "rgb": [
         68,
         68,
         68
        ]
       },
       "50f92c45-a630-455b-aec3-788680ec7410": {
        "id": "50f92c45-a630-455b-aec3-788680ec7410",
        "rgb": [
         155,
         177,
         192
        ]
       },
       "c5cc3653-2ee1-402a-aba2-7caae1da4f6c": {
        "id": "c5cc3653-2ee1-402a-aba2-7caae1da4f6c",
        "rgb": [
         43,
         126,
         184
        ]
       },
       "efa7f048-9acb-414c-8b04-a26811511a21": {
        "id": "efa7f048-9acb-414c-8b04-a26811511a21",
        "rgb": [
         25.118061674008803,
         73.60176211453744,
         107.4819383259912
        ]
       }
      },
      "rules": {
       "blockquote": {
        "color": "50f92c45-a630-455b-aec3-788680ec7410"
       },
       "code": {
        "font-family": "Anonymous Pro"
       },
       "h1": {
        "color": "c5cc3653-2ee1-402a-aba2-7caae1da4f6c",
        "font-family": "Lato",
        "font-size": 8
       },
       "h2": {
        "color": "c5cc3653-2ee1-402a-aba2-7caae1da4f6c",
        "font-family": "Lato",
        "font-size": 6
       },
       "h3": {
        "color": "50f92c45-a630-455b-aec3-788680ec7410",
        "font-family": "Lato",
        "font-size": 5.5
       },
       "h4": {
        "color": "c5cc3653-2ee1-402a-aba2-7caae1da4f6c",
        "font-family": "Lato",
        "font-size": 5
       },
       "h5": {
        "font-family": "Lato"
       },
       "h6": {
        "font-family": "Lato"
       },
       "h7": {
        "font-family": "Lato"
       },
       "pre": {
        "font-family": "Anonymous Pro",
        "font-size": 4
       }
      },
      "text-base": {
       "font-family": "Merriweather",
       "font-size": 4
      }
     }
    }
   }
  }
 },
 "nbformat": 4,
 "nbformat_minor": 2
}
